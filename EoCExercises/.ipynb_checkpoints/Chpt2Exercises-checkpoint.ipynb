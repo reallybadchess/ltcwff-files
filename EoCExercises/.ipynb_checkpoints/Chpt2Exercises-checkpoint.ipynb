{
 "cells": [
  {
   "cell_type": "markdown",
   "metadata": {},
   "source": [
    "2.1 Which of the following are valid Python variable names?\n",
    "\n",
    "a,b,d,e,\n",
    "\n"
   ]
  },
  {
   "cell_type": "code",
   "execution_count": 5,
   "metadata": {},
   "outputs": [
    {
     "name": "stdout",
     "output_type": "stream",
     "text": [
      "The value of weeklyPoints is: 133\n"
     ]
    }
   ],
   "source": [
    "# 2.2 \n",
    "# What is the value of weeklyPoints at the end of the following code?\n",
    "\n",
    "weeklyPoints = 100\n",
    "weeklyPoints = weeklyPoints + 28\n",
    "weeklyPoints = weeklyPoints + 5\n",
    "\n",
    "print(f'The value of weeklyPoints is: {weeklyPoints}')"
   ]
  },
  {
   "cell_type": "code",
   "execution_count": 6,
   "metadata": {},
   "outputs": [
    {
     "data": {
      "text/plain": [
       "'Dak and Zeke for the td!'"
      ]
     },
     "execution_count": 6,
     "metadata": {},
     "output_type": "execute_result"
    }
   ],
   "source": [
    "# 2.3 \n",
    "'''\n",
    "Write a function for_the_td that takes the names of two players \n",
    "and returns a string in the form: 'Dak and Zeke for the td!'\n",
    "'''\n",
    "\n",
    "def for_the_td(p1, p2):\n",
    "    return f'{p1} and {p2} for the td!'\n",
    "\n",
    "for_the_td('Dak', 'Zeke')"
   ]
  },
  {
   "cell_type": "code",
   "execution_count": null,
   "metadata": {},
   "outputs": [],
   "source": [
    "# 2.4 \n",
    "# Without looking it up what do you think the string method is lower does?\n",
    "# What type of value does it return? Write some code to test your guess.\n",
    "\n",
    "'''\n",
    "I think it may check to see if all of th values in a string are lower case. If this is true, then\n",
    "it must return a tring type.\n",
    "'''\n",
    "\n"
   ]
  },
  {
   "cell_type": "code",
   "execution_count": 10,
   "metadata": {},
   "outputs": [
    {
     "data": {
      "text/plain": [
       "False"
      ]
     },
     "execution_count": 10,
     "metadata": {},
     "output_type": "execute_result"
    }
   ],
   "source": [
    "x = 'macAndCheese'\n",
    "x.islower()"
   ]
  },
  {
   "cell_type": "code",
   "execution_count": 11,
   "metadata": {},
   "outputs": [
    {
     "data": {
      "text/plain": [
       "True"
      ]
     },
     "execution_count": 11,
     "metadata": {},
     "output_type": "execute_result"
    }
   ],
   "source": [
    "x = 'macandcheese'\n",
    "x.islower()"
   ]
  },
  {
   "cell_type": "code",
   "execution_count": 12,
   "metadata": {},
   "outputs": [],
   "source": [
    "# It seems I was correct about checking if letters are lower case but I was wrong about the type. \n",
    "# The type is boolean"
   ]
  },
  {
   "cell_type": "code",
   "execution_count": 17,
   "metadata": {},
   "outputs": [
    {
     "name": "stdout",
     "output_type": "stream",
     "text": [
      "False\n",
      "False\n",
      "True\n"
     ]
    }
   ],
   "source": [
    "# 2.5\n",
    "# Write a function is_leveon that takes in a player name and returns a bool indicating whether the\n",
    "# player's name is Le'Veon Bell\n",
    "\n",
    "def is_leveon(name):\n",
    "    return name.replace(\"'\",\"\").lower() == 'leveon bell'\n",
    "\n",
    "print(is_leveon('John Elway'))\n",
    "print(is_leveon('Madden'))\n",
    "print(is_leveon(\"le'veon bell\"))"
   ]
  },
  {
   "cell_type": "code",
   "execution_count": 22,
   "metadata": {},
   "outputs": [
    {
     "name": "stdout",
     "output_type": "stream",
     "text": [
      "190 is a good score.\n",
      "59's not that good.\n",
      "100 is a good score.\n"
     ]
    }
   ],
   "source": [
    "# 2.6\n",
    "# Write a function commentary that takes in a number (e.g. 120 or 90) and returns a string\n",
    "# '120 is a good score' if the number is >= 100 \"90's not that good\" otherwise\n",
    "\n",
    "def commentary(num):\n",
    "    if num >= 100:\n",
    "        print(f'{num} is a good score.')\n",
    "    else:\n",
    "        print(f\"{num}'s not that good.\")\n",
    "\n",
    "commentary(190)\n",
    "commentary(59)\n",
    "commentary(100)"
   ]
  },
  {
   "cell_type": "code",
   "execution_count": 45,
   "metadata": {},
   "outputs": [
    {
     "name": "stdout",
     "output_type": "stream",
     "text": [
      "['Tom Brady', 'Adrian Peterson', 'Antonio Brown']\n",
      "['Tom Brady', 'Adrian Peterson', 'Antonio Brown']\n"
     ]
    },
    {
     "data": {
      "text/plain": [
       "['Tom Brady', 'Adrian Peterson', 'Antonio Brown']"
      ]
     },
     "execution_count": 45,
     "metadata": {},
     "output_type": "execute_result"
    }
   ],
   "source": [
    "# 2.7\n",
    "# given a list give three ways to print the list omitting 'OJB' \n",
    "my_roster_list = ['Tom Brady', 'Adrian Peterson', 'Antonio Brown', 'OJB']\n",
    "\n",
    "print(my_roster_list[:3])\n",
    "print(my_roster_list[-4:-1])\n",
    "[x for x in my_roster_list if x != 'OJB']"
   ]
  },
  {
   "cell_type": "code",
   "execution_count": 59,
   "metadata": {},
   "outputs": [
    {
     "name": "stdout",
     "output_type": "stream",
     "text": [
      "{'number_of_teams': 12, 'ppr': True}\n",
      "{'number_of_teams': 10, 'ppr': True}\n"
     ]
    }
   ],
   "source": [
    "# 2.8a\n",
    "# given a dict how would you change number_of_teams to 10?\n",
    "\"\"\"The way to change this would be:\n",
    "league_settings['number_of_teams'] = 12\"\"\"\n",
    "\n",
    "\n",
    "# Example\n",
    "league_settings = {'number_of_teams': 12, 'ppr': True}\n",
    "print(league_settings)\n",
    "\n",
    "league_settings['number_of_teams'] = 10\n",
    "print(league_settings)"
   ]
  },
  {
   "cell_type": "code",
   "execution_count": 60,
   "metadata": {},
   "outputs": [
    {
     "data": {
      "text/plain": [
       "{'number_of_teams': 10, 'ppr': False}"
      ]
     },
     "execution_count": 60,
     "metadata": {},
     "output_type": "execute_result"
    }
   ],
   "source": [
    "# 2.8b\n",
    "# write a function toggle_ppr() that takes a dict like league_settings, turns 'ppr' to the\n",
    "# opposite of whatever it is, and returns the updated settings dict.\n",
    "\n",
    "def toggle_ppr(key):\n",
    "    key['ppr'] = not key['ppr']\n",
    "    return key\n",
    "\n",
    "toggle_ppr(league_settings)"
   ]
  },
  {
   "cell_type": "code",
   "execution_count": null,
   "metadata": {},
   "outputs": [],
   "source": []
  },
  {
   "cell_type": "markdown",
   "metadata": {},
   "source": [
    "2.9\n",
    "\n",
    "Assuming we've defined the same dict for league_settings\n",
    "\n",
    "    a) Will not work\n",
    "    b) Will not work\n",
    "    c) Will work and will add a new key and value to the dict"
   ]
  },
  {
   "cell_type": "code",
   "execution_count": 68,
   "metadata": {},
   "outputs": [
    {
     "name": "stdout",
     "output_type": "stream",
     "text": [
      "Brady\n",
      "Peterson\n",
      "Brown\n"
     ]
    }
   ],
   "source": [
    "# 2.10a Write a loop that goes through and prints the last name of every player in my_roster_list\n",
    "my_roster_list = ['Tom Brady', 'Adrian Peterson', 'Antonio Brown']\n",
    "\n",
    "for lastName in my_roster_list:\n",
    "    print(lastName.split(\" \")[1])\n",
    "    "
   ]
  },
  {
   "cell_type": "code",
   "execution_count": 71,
   "metadata": {},
   "outputs": [
    {
     "data": {
      "text/plain": [
       "{'Tom Brady': 9, 'Adrian Peterson': 15, 'Antonio Brown': 13}"
      ]
     },
     "execution_count": 71,
     "metadata": {},
     "output_type": "execute_result"
    }
   ],
   "source": [
    "# 2.10b Write a comprehension that uses my_roster_list to make a dict where the keys are the player names\n",
    "# and the values are the lengths of the strings.\n",
    "{player: len(player) for player in my_roster_list}"
   ]
  },
  {
   "cell_type": "code",
   "execution_count": null,
   "metadata": {},
   "outputs": [],
   "source": [
    "# 2.11"
   ]
  }
 ],
 "metadata": {
  "kernelspec": {
   "display_name": "Python 3",
   "language": "python",
   "name": "python3"
  },
  "language_info": {
   "codemirror_mode": {
    "name": "ipython",
    "version": 3
   },
   "file_extension": ".py",
   "mimetype": "text/x-python",
   "name": "python",
   "nbconvert_exporter": "python",
   "pygments_lexer": "ipython3",
   "version": "3.8.5"
  }
 },
 "nbformat": 4,
 "nbformat_minor": 4
}
