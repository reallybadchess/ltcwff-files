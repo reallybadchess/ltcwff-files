{
 "cells": [
  {
   "cell_type": "markdown",
   "metadata": {},
   "source": [
    "# Combining Two or More DataFrames"
   ]
  },
  {
   "cell_type": "code",
   "execution_count": 3,
   "metadata": {},
   "outputs": [],
   "source": [
    "# Loading libraries\n",
    "import pandas as pd\n",
    "import numpy as np\n",
    "from os import path\n",
    "\n",
    "# File path\n",
    "DATA_DIR = '/Users/simmsjn/Documents/GitHub/ltcwff-files/data'\n",
    "\n",
    "# loading dataframes\n",
    "pg = pd.read_csv(path.join(DATA_DIR, 'player_game_2017_sample.csv'))  # player-game\n",
    "games = pd.read_csv(path.join(DATA_DIR, 'game_2017_sample.csv'))  # game info\n",
    "player = pd.read_csv(path.join(DATA_DIR, 'player_2017_sample.csv')) # player info\n"
   ]
  },
  {
   "cell_type": "code",
   "execution_count": null,
   "metadata": {},
   "outputs": [],
   "source": []
  }
 ],
 "metadata": {
  "kernelspec": {
   "display_name": "Python 3",
   "language": "python",
   "name": "python3"
  },
  "language_info": {
   "codemirror_mode": {
    "name": "ipython",
    "version": 3
   },
   "file_extension": ".py",
   "mimetype": "text/x-python",
   "name": "python",
   "nbconvert_exporter": "python",
   "pygments_lexer": "ipython3",
   "version": "3.8.5"
  }
 },
 "nbformat": 4,
 "nbformat_minor": 4
}
