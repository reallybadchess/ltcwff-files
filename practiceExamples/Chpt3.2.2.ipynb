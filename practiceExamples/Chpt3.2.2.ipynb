{
 "cells": [
  {
   "cell_type": "markdown",
   "metadata": {},
   "source": [
    "# Use Built-in Pandas Functions That Work on DataFrames"
   ]
  },
  {
   "cell_type": "code",
   "execution_count": 14,
   "metadata": {},
   "outputs": [],
   "source": [
    "# importing libraries\n",
    "import pandas as pd\n",
    "import numpy as np\n",
    "from os import path\n",
    "\n",
    "# File path\n",
    "dataDir = '/Users/simmsjn/Documents/Github/ltcwff-files/data'\n",
    "\n",
    "# DataFrame\n",
    "adp = pd.read_csv(path.join(dataDir, 'adp_2017.csv'))\n",
    "pg = pd.read_csv(path.join(dataDir, 'player_game_2017_sample.csv'))"
   ]
  },
  {
   "cell_type": "markdown",
   "metadata": {},
   "source": [
    "#### Summary Statistic Functions"
   ]
  },
  {
   "cell_type": "code",
   "execution_count": 4,
   "metadata": {},
   "outputs": [
    {
     "data": {
      "text/plain": [
       "adp                88.582609\n",
       "adp_formatted       7.897391\n",
       "bye                 8.907609\n",
       "high               67.108696\n",
       "low               107.250000\n",
       "player_id        1850.195652\n",
       "stdev               8.338587\n",
       "times_drafted     164.614130\n",
       "dtype: float64"
      ]
     },
     "execution_count": 4,
     "metadata": {},
     "output_type": "execute_result"
    }
   ],
   "source": [
    "# mean\n",
    "\n",
    "adp.mean()"
   ]
  },
  {
   "cell_type": "code",
   "execution_count": 5,
   "metadata": {},
   "outputs": [
    {
     "data": {
      "text/plain": [
       "adp                  172.7\n",
       "adp_formatted        15.05\n",
       "bye                     12\n",
       "high                   162\n",
       "low                    180\n",
       "name             Zay Jones\n",
       "player_id             2523\n",
       "position                WR\n",
       "stdev                 21.3\n",
       "team                   WAS\n",
       "times_drafted          338\n",
       "dtype: object"
      ]
     },
     "execution_count": 5,
     "metadata": {},
     "output_type": "execute_result"
    }
   ],
   "source": [
    "# max\n",
    "\n",
    "adp.max()"
   ]
  },
  {
   "cell_type": "code",
   "execution_count": 8,
   "metadata": {},
   "outputs": [
    {
     "name": "stdout",
     "output_type": "stream",
     "text": [
      "adp               49.770300\n",
      "adp_formatted      4.139712\n",
      "bye                2.234148\n",
      "high              41.788292\n",
      "low               54.352950\n",
      "player_id        566.762462\n",
      "stdev              4.253276\n",
      "times_drafted     77.900511\n",
      "dtype: float64\n",
      "adp              184\n",
      "adp_formatted    184\n",
      "bye              184\n",
      "high             184\n",
      "low              184\n",
      "name             184\n",
      "player_id        184\n",
      "position         184\n",
      "stdev            184\n",
      "team             184\n",
      "times_drafted    184\n",
      "dtype: int64\n",
      "adp                                                        16299.2\n",
      "adp_formatted                                              1453.12\n",
      "bye                                                           1639\n",
      "high                                                         12348\n",
      "low                                                          19734\n",
      "name             David JohnsonLeVeon BellAntonio BrownJulio Jon...\n",
      "player_id                                                   340436\n",
      "position         RBRBWRWRRBWRRBRBWRWRRBWRWRRBRBRBWRTERBRBWRWRWR...\n",
      "stdev                                                       1534.3\n",
      "team             ARIPITPITATLDALNYGATLBUFTBCINLACGBNOPHITENCHIN...\n",
      "times_drafted                                                30289\n",
      "dtype: object\n",
      "adp                     1.3\n",
      "adp_formatted          1.01\n",
      "bye                       4\n",
      "high                      1\n",
      "low                       4\n",
      "name             A.J. Green\n",
      "player_id               119\n",
      "position                DEF\n",
      "stdev                   0.6\n",
      "team                    ARI\n",
      "times_drafted            42\n",
      "dtype: object\n"
     ]
    }
   ],
   "source": [
    "# Other summary statistics\n",
    "\n",
    "#std\n",
    "print(adp.std())\n",
    "\n",
    "# count\n",
    "print(adp.count())\n",
    "\n",
    "# sum\n",
    "print(adp.sum())\n",
    "\n",
    "# min\n",
    "\n",
    "print(adp.min())"
   ]
  },
  {
   "cell_type": "markdown",
   "metadata": {},
   "source": [
    "#### Axis"
   ]
  },
  {
   "cell_type": "code",
   "execution_count": 9,
   "metadata": {},
   "outputs": [
    {
     "data": {
      "text/plain": [
       "adp       88.582609\n",
       "low      107.250000\n",
       "high      67.108696\n",
       "stdev      8.338587\n",
       "dtype: float64"
      ]
     },
     "execution_count": 9,
     "metadata": {},
     "output_type": "execute_result"
    }
   ],
   "source": [
    "# axis = 0 - Rows | axis = 1 - Columns\n",
    "# axis = 0 is the default so it doesn't need to be explicitly passed\n",
    "\n",
    "adp[['adp', 'low', 'high', 'stdev']].mean(axis=0)"
   ]
  },
  {
   "cell_type": "code",
   "execution_count": 12,
   "metadata": {},
   "outputs": [
    {
     "data": {
      "text/plain": [
       "0    1.725\n",
       "1    2.525\n",
       "2    3.175\n",
       "3    6.225\n",
       "4    6.750\n",
       "dtype: float64"
      ]
     },
     "execution_count": 12,
     "metadata": {},
     "output_type": "execute_result"
    }
   ],
   "source": [
    "adp[['adp', 'low', 'high', 'stdev']].mean(axis=1).head()"
   ]
  },
  {
   "cell_type": "markdown",
   "metadata": {},
   "source": [
    "#### Summary Functions on Boolean Columns"
   ]
  },
  {
   "cell_type": "code",
   "execution_count": 16,
   "metadata": {},
   "outputs": [
    {
     "data": {
      "text/html": [
       "<div>\n",
       "<style scoped>\n",
       "    .dataframe tbody tr th:only-of-type {\n",
       "        vertical-align: middle;\n",
       "    }\n",
       "\n",
       "    .dataframe tbody tr th {\n",
       "        vertical-align: top;\n",
       "    }\n",
       "\n",
       "    .dataframe thead th {\n",
       "        text-align: right;\n",
       "    }\n",
       "</style>\n",
       "<table border=\"1\" class=\"dataframe\">\n",
       "  <thead>\n",
       "    <tr style=\"text-align: right;\">\n",
       "      <th></th>\n",
       "      <th>player_name</th>\n",
       "      <th>week</th>\n",
       "      <th>carries</th>\n",
       "      <th>gameid</th>\n",
       "      <th>player_id</th>\n",
       "      <th>rush_yards</th>\n",
       "      <th>rush_fumbles</th>\n",
       "      <th>rush_tds</th>\n",
       "      <th>raw_yac</th>\n",
       "      <th>rec_fumbles</th>\n",
       "      <th>...</th>\n",
       "      <th>interceptions</th>\n",
       "      <th>pass_tds</th>\n",
       "      <th>air_tds</th>\n",
       "      <th>season</th>\n",
       "      <th>team</th>\n",
       "      <th>pos</th>\n",
       "      <th>rec_yards</th>\n",
       "      <th>receptions</th>\n",
       "      <th>targets</th>\n",
       "      <th>good_rb_game</th>\n",
       "    </tr>\n",
       "  </thead>\n",
       "  <tbody>\n",
       "    <tr>\n",
       "      <th>0</th>\n",
       "      <td>T.Brady</td>\n",
       "      <td>1</td>\n",
       "      <td>0.0</td>\n",
       "      <td>2017090700</td>\n",
       "      <td>00-0019596</td>\n",
       "      <td>0.0</td>\n",
       "      <td>0.0</td>\n",
       "      <td>0.0</td>\n",
       "      <td>0.0</td>\n",
       "      <td>0.0</td>\n",
       "      <td>...</td>\n",
       "      <td>0.0</td>\n",
       "      <td>0.0</td>\n",
       "      <td>0.0</td>\n",
       "      <td>2017</td>\n",
       "      <td>NE</td>\n",
       "      <td>QB</td>\n",
       "      <td>0.0</td>\n",
       "      <td>0.0</td>\n",
       "      <td>0.0</td>\n",
       "      <td>False</td>\n",
       "    </tr>\n",
       "    <tr>\n",
       "      <th>1</th>\n",
       "      <td>A.Smith</td>\n",
       "      <td>1</td>\n",
       "      <td>2.0</td>\n",
       "      <td>2017090700</td>\n",
       "      <td>00-0023436</td>\n",
       "      <td>9.0</td>\n",
       "      <td>0.0</td>\n",
       "      <td>0.0</td>\n",
       "      <td>0.0</td>\n",
       "      <td>0.0</td>\n",
       "      <td>...</td>\n",
       "      <td>0.0</td>\n",
       "      <td>4.0</td>\n",
       "      <td>1.0</td>\n",
       "      <td>2017</td>\n",
       "      <td>KC</td>\n",
       "      <td>QB</td>\n",
       "      <td>0.0</td>\n",
       "      <td>0.0</td>\n",
       "      <td>0.0</td>\n",
       "      <td>False</td>\n",
       "    </tr>\n",
       "    <tr>\n",
       "      <th>2</th>\n",
       "      <td>D.Amendola</td>\n",
       "      <td>1</td>\n",
       "      <td>0.0</td>\n",
       "      <td>2017090700</td>\n",
       "      <td>00-0026035</td>\n",
       "      <td>0.0</td>\n",
       "      <td>0.0</td>\n",
       "      <td>0.0</td>\n",
       "      <td>49.0</td>\n",
       "      <td>1.0</td>\n",
       "      <td>...</td>\n",
       "      <td>0.0</td>\n",
       "      <td>0.0</td>\n",
       "      <td>0.0</td>\n",
       "      <td>2017</td>\n",
       "      <td>NE</td>\n",
       "      <td>WR</td>\n",
       "      <td>100.0</td>\n",
       "      <td>6.0</td>\n",
       "      <td>7.0</td>\n",
       "      <td>False</td>\n",
       "    </tr>\n",
       "    <tr>\n",
       "      <th>3</th>\n",
       "      <td>R.Burkhead</td>\n",
       "      <td>1</td>\n",
       "      <td>3.0</td>\n",
       "      <td>2017090700</td>\n",
       "      <td>00-0030288</td>\n",
       "      <td>15.0</td>\n",
       "      <td>0.0</td>\n",
       "      <td>0.0</td>\n",
       "      <td>7.0</td>\n",
       "      <td>0.0</td>\n",
       "      <td>...</td>\n",
       "      <td>0.0</td>\n",
       "      <td>0.0</td>\n",
       "      <td>0.0</td>\n",
       "      <td>2017</td>\n",
       "      <td>NE</td>\n",
       "      <td>RB</td>\n",
       "      <td>8.0</td>\n",
       "      <td>1.0</td>\n",
       "      <td>3.0</td>\n",
       "      <td>False</td>\n",
       "    </tr>\n",
       "    <tr>\n",
       "      <th>4</th>\n",
       "      <td>T.Kelce</td>\n",
       "      <td>1</td>\n",
       "      <td>1.0</td>\n",
       "      <td>2017090700</td>\n",
       "      <td>00-0030506</td>\n",
       "      <td>4.0</td>\n",
       "      <td>0.0</td>\n",
       "      <td>0.0</td>\n",
       "      <td>23.0</td>\n",
       "      <td>0.0</td>\n",
       "      <td>...</td>\n",
       "      <td>0.0</td>\n",
       "      <td>0.0</td>\n",
       "      <td>0.0</td>\n",
       "      <td>2017</td>\n",
       "      <td>KC</td>\n",
       "      <td>TE</td>\n",
       "      <td>40.0</td>\n",
       "      <td>5.0</td>\n",
       "      <td>7.0</td>\n",
       "      <td>False</td>\n",
       "    </tr>\n",
       "  </tbody>\n",
       "</table>\n",
       "<p>5 rows × 30 columns</p>\n",
       "</div>"
      ],
      "text/plain": [
       "  player_name  week  carries      gameid   player_id  rush_yards  \\\n",
       "0     T.Brady     1      0.0  2017090700  00-0019596         0.0   \n",
       "1     A.Smith     1      2.0  2017090700  00-0023436         9.0   \n",
       "2  D.Amendola     1      0.0  2017090700  00-0026035         0.0   \n",
       "3  R.Burkhead     1      3.0  2017090700  00-0030288        15.0   \n",
       "4     T.Kelce     1      1.0  2017090700  00-0030506         4.0   \n",
       "\n",
       "   rush_fumbles  rush_tds  raw_yac  rec_fumbles  ...  interceptions  pass_tds  \\\n",
       "0           0.0       0.0      0.0          0.0  ...            0.0       0.0   \n",
       "1           0.0       0.0      0.0          0.0  ...            0.0       4.0   \n",
       "2           0.0       0.0     49.0          1.0  ...            0.0       0.0   \n",
       "3           0.0       0.0      7.0          0.0  ...            0.0       0.0   \n",
       "4           0.0       0.0     23.0          0.0  ...            0.0       0.0   \n",
       "\n",
       "   air_tds  season  team  pos  rec_yards  receptions  targets  good_rb_game  \n",
       "0      0.0    2017    NE   QB        0.0         0.0      0.0         False  \n",
       "1      1.0    2017    KC   QB        0.0         0.0      0.0         False  \n",
       "2      0.0    2017    NE   WR      100.0         6.0      7.0         False  \n",
       "3      0.0    2017    NE   RB        8.0         1.0      3.0         False  \n",
       "4      0.0    2017    KC   TE       40.0         5.0      7.0         False  \n",
       "\n",
       "[5 rows x 30 columns]"
      ]
     },
     "execution_count": 16,
     "metadata": {},
     "output_type": "execute_result"
    }
   ],
   "source": [
    "# pandas treats boolean columns as 0 - False and 1 - True\n",
    "\n",
    "pg['good_rb_game'] = ((pg['pos'] == 'RB') &\n",
    "                     (pg['rush_yards'] == 100))\n",
    "pg.head()"
   ]
  },
  {
   "cell_type": "code",
   "execution_count": 17,
   "metadata": {},
   "outputs": [
    {
     "data": {
      "text/plain": [
       "0.0020964360587002098"
      ]
     },
     "execution_count": 17,
     "metadata": {},
     "output_type": "execute_result"
    }
   ],
   "source": [
    "# mean\n",
    "pg['good_rb_game'].mean()"
   ]
  },
  {
   "cell_type": "code",
   "execution_count": 24,
   "metadata": {},
   "outputs": [
    {
     "data": {
      "text/plain": [
       "3"
      ]
     },
     "execution_count": 24,
     "metadata": {},
     "output_type": "execute_result"
    }
   ],
   "source": [
    "# sum\n",
    "\n",
    "pg['good_rb_game'].sum()"
   ]
  },
  {
   "cell_type": "markdown",
   "metadata": {},
   "source": [
    "Boolean specific functions\n",
    "\n",
    "    all: which returns True if ALL vals in column are True\n",
    "    any: which returns True if ANY vals in the column are True\n",
    "\n",
    "These also take the axis argument"
   ]
  },
  {
   "cell_type": "code",
   "execution_count": 25,
   "metadata": {},
   "outputs": [
    {
     "data": {
      "text/plain": [
       "True"
      ]
     },
     "execution_count": 25,
     "metadata": {},
     "output_type": "execute_result"
    }
   ],
   "source": [
    "# any\n",
    "\n",
    "(pg['pass_yards'] > 400).any() "
   ]
  },
  {
   "cell_type": "code",
   "execution_count": 29,
   "metadata": {},
   "outputs": [
    {
     "data": {
      "text/plain": [
       "False"
      ]
     },
     "execution_count": 29,
     "metadata": {},
     "output_type": "execute_result"
    }
   ],
   "source": [
    "# all\n",
    "(pg['rush_yards'] >= 0).all()"
   ]
  },
  {
   "cell_type": "code",
   "execution_count": 30,
   "metadata": {},
   "outputs": [
    {
     "data": {
      "text/plain": [
       "0       False\n",
       "1       False\n",
       "2       False\n",
       "3       False\n",
       "4       False\n",
       "        ...  \n",
       "1426    False\n",
       "1427    False\n",
       "1428    False\n",
       "1429    False\n",
       "1430    False\n",
       "Length: 1431, dtype: bool"
      ]
     },
     "execution_count": 30,
     "metadata": {},
     "output_type": "execute_result"
    }
   ],
   "source": [
    "# any(axis = ) to look at how often a players rush yards or receiving yards were greater than 100\n",
    "\n",
    "(pg[['rush_yards', 'rec_yards']] > 100).any(axis = 1)"
   ]
  },
  {
   "cell_type": "code",
   "execution_count": 33,
   "metadata": {},
   "outputs": [
    {
     "data": {
      "text/plain": [
       "100"
      ]
     },
     "execution_count": 33,
     "metadata": {},
     "output_type": "execute_result"
    }
   ],
   "source": [
    "# How often?\n",
    "(pg[['rush_yards', 'rec_yards']] > 100).any(axis = 1).sum()"
   ]
  },
  {
   "cell_type": "code",
   "execution_count": 34,
   "metadata": {},
   "outputs": [
    {
     "data": {
      "text/plain": [
       "0"
      ]
     },
     "execution_count": 34,
     "metadata": {},
     "output_type": "execute_result"
    }
   ],
   "source": [
    "# how about both > 100?\n",
    "\n",
    "(pg[['rush_yards', 'rec_yards']] > 100).all(axis = 1).sum()\n",
    "\n",
    "# Never"
   ]
  },
  {
   "cell_type": "code",
   "execution_count": 35,
   "metadata": {},
   "outputs": [
    {
     "data": {
      "text/plain": [
       "4"
      ]
     },
     "execution_count": 35,
     "metadata": {},
     "output_type": "execute_result"
    }
   ],
   "source": [
    "# What if we lower the bar?\n",
    "\n",
    "(pg[['rush_yards', 'rec_yards']] > 75).all(axis = 1).sum()\n",
    "\n",
    "# only 4"
   ]
  },
  {
   "cell_type": "markdown",
   "metadata": {},
   "source": [
    "#### Other Misc Built-in Summary Functions"
   ]
  },
  {
   "cell_type": "code",
   "execution_count": 37,
   "metadata": {},
   "outputs": [
    {
     "data": {
      "text/plain": [
       "WR     63\n",
       "RB     62\n",
       "QB     21\n",
       "TE     17\n",
       "DEF    13\n",
       "PK      8\n",
       "Name: position, dtype: int64"
      ]
     },
     "execution_count": 37,
     "metadata": {},
     "output_type": "execute_result"
    }
   ],
   "source": [
    "# value_counts - summarizes the frequency of individual values\n",
    "\n",
    "adp['position'].value_counts()"
   ]
  },
  {
   "cell_type": "code",
   "execution_count": 45,
   "metadata": {},
   "outputs": [
    {
     "data": {
      "text/plain": [
       "WR     0.342391\n",
       "RB     0.336957\n",
       "QB     0.114130\n",
       "TE     0.092391\n",
       "DEF    0.070652\n",
       "PK     0.043478\n",
       "Name: position, dtype: float64"
      ]
     },
     "execution_count": 45,
     "metadata": {},
     "output_type": "execute_result"
    }
   ],
   "source": [
    "# normalizing - dividing each by the total so they add up to 1 and represent proportions\n",
    "\n",
    "adp['position'].value_counts(normalize = True)\n",
    "\n",
    "# each values given represents a percentage. so WR - 34.2%, RB - 33.7% etc..."
   ]
  },
  {
   "cell_type": "code",
   "execution_count": 48,
   "metadata": {},
   "outputs": [
    {
     "data": {
      "text/html": [
       "<div>\n",
       "<style scoped>\n",
       "    .dataframe tbody tr th:only-of-type {\n",
       "        vertical-align: middle;\n",
       "    }\n",
       "\n",
       "    .dataframe tbody tr th {\n",
       "        vertical-align: top;\n",
       "    }\n",
       "\n",
       "    .dataframe thead th {\n",
       "        text-align: right;\n",
       "    }\n",
       "</style>\n",
       "<table border=\"1\" class=\"dataframe\">\n",
       "  <thead>\n",
       "    <tr style=\"text-align: right;\">\n",
       "      <th>position</th>\n",
       "      <th>DEF</th>\n",
       "      <th>PK</th>\n",
       "      <th>QB</th>\n",
       "      <th>RB</th>\n",
       "      <th>TE</th>\n",
       "      <th>WR</th>\n",
       "    </tr>\n",
       "    <tr>\n",
       "      <th>team</th>\n",
       "      <th></th>\n",
       "      <th></th>\n",
       "      <th></th>\n",
       "      <th></th>\n",
       "      <th></th>\n",
       "      <th></th>\n",
       "    </tr>\n",
       "  </thead>\n",
       "  <tbody>\n",
       "    <tr>\n",
       "      <th>ARI</th>\n",
       "      <td>1</td>\n",
       "      <td>0</td>\n",
       "      <td>1</td>\n",
       "      <td>2</td>\n",
       "      <td>0</td>\n",
       "      <td>2</td>\n",
       "    </tr>\n",
       "    <tr>\n",
       "      <th>ATL</th>\n",
       "      <td>1</td>\n",
       "      <td>1</td>\n",
       "      <td>1</td>\n",
       "      <td>2</td>\n",
       "      <td>1</td>\n",
       "      <td>3</td>\n",
       "    </tr>\n",
       "    <tr>\n",
       "      <th>BAL</th>\n",
       "      <td>1</td>\n",
       "      <td>1</td>\n",
       "      <td>0</td>\n",
       "      <td>2</td>\n",
       "      <td>0</td>\n",
       "      <td>2</td>\n",
       "    </tr>\n",
       "    <tr>\n",
       "      <th>BUF</th>\n",
       "      <td>0</td>\n",
       "      <td>0</td>\n",
       "      <td>1</td>\n",
       "      <td>1</td>\n",
       "      <td>0</td>\n",
       "      <td>3</td>\n",
       "    </tr>\n",
       "    <tr>\n",
       "      <th>CAR</th>\n",
       "      <td>1</td>\n",
       "      <td>0</td>\n",
       "      <td>1</td>\n",
       "      <td>2</td>\n",
       "      <td>1</td>\n",
       "      <td>0</td>\n",
       "    </tr>\n",
       "  </tbody>\n",
       "</table>\n",
       "</div>"
      ],
      "text/plain": [
       "position  DEF  PK  QB  RB  TE  WR\n",
       "team                             \n",
       "ARI         1   0   1   2   0   2\n",
       "ATL         1   1   1   2   1   3\n",
       "BAL         1   1   0   2   0   2\n",
       "BUF         0   0   1   1   0   3\n",
       "CAR         1   0   1   2   1   0"
      ]
     },
     "execution_count": 48,
     "metadata": {},
     "output_type": "execute_result"
    }
   ],
   "source": [
    "# also useful: crosstab - frequencies for all the combinations between TWO columns\n",
    "\n",
    "pd.crosstab(adp['team'], adp['position']).head()\n",
    "\n",
    "# also take the optional normalize"
   ]
  }
 ],
 "metadata": {
  "kernelspec": {
   "display_name": "Python 3",
   "language": "python",
   "name": "python3"
  },
  "language_info": {
   "codemirror_mode": {
    "name": "ipython",
    "version": 3
   },
   "file_extension": ".py",
   "mimetype": "text/x-python",
   "name": "python",
   "nbconvert_exporter": "python",
   "pygments_lexer": "ipython3",
   "version": "3.8.5"
  }
 },
 "nbformat": 4,
 "nbformat_minor": 4
}
